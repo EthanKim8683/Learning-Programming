{
 "cells": [
  {
   "attachments": {},
   "cell_type": "markdown",
   "metadata": {},
   "source": [
    "## TLDR:\n",
    "- Tensors can be converted to and from other data types\n",
    "- Tensors have attributes\n",
    "- Tensors can be tranferred between the CPU and GPU\n",
    "- Tensors can be used as arrays\n",
    "- Tensors can be used as matrices\n",
    "- Tensors can operate on shared memory with other objects"
   ]
  },
  {
   "attachments": {},
   "cell_type": "markdown",
   "metadata": {},
   "source": [
    "## Tensor Conversions"
   ]
  },
  {
   "cell_type": "code",
   "execution_count": 13,
   "metadata": {},
   "outputs": [
    {
     "name": "stdout",
     "output_type": "stream",
     "text": [
      "from_py =\n",
      "tensor([[1, 2],\n",
      "        [3, 4]])\n",
      "\n",
      "from_np =\n",
      "tensor([[1, 2],\n",
      "        [3, 4]], dtype=torch.int32)\n",
      "\n",
      "ones_like =\n",
      "tensor([[1, 1],\n",
      "        [1, 1]])\n",
      "rand_like =\n",
      "tensor([[0.6822, 0.4029],\n",
      "        [0.6310, 0.7154]])\n",
      "\n",
      "ones =\n",
      "tensor([[1., 1., 1., 1.],\n",
      "        [1., 1., 1., 1.]])\n",
      "rand =\n",
      "tensor([[0.9327, 0.7215, 0.9513, 1.0000],\n",
      "        [0.1872, 0.3786, 0.1766, 0.9017]])\n",
      "zeros =\n",
      "tensor([[0., 0., 0., 0.],\n",
      "        [0., 0., 0., 0.]])\n",
      "\n"
     ]
    }
   ],
   "source": [
    "import torch\n",
    "import numpy as np\n",
    "\n",
    "# Tensor from Python array\n",
    "py_array = [[1, 2], [3, 4]]\n",
    "from_py = torch.tensor(py_array) # Tensor from `py_array`\n",
    "print(f\"from_py =\\n{from_py}\")\n",
    "print()\n",
    "\n",
    "# Tensor from numpy array\n",
    "np_array = np.array(py_array)\n",
    "from_np = torch.tensor(np_array) # Tensor from `np_array`\n",
    "print(f\"from_np =\\n{from_np}\")\n",
    "print()\n",
    "\n",
    "# Tensor similar to an existing tensor\n",
    "# - Retains properties of argument tensor\n",
    "#   unless explicitly overriden (shape,\n",
    "#   data type, etc.)\n",
    "ones_like = torch.ones_like(from_py)                    # Tensor of ones similar to `from_py`\n",
    "rand_like = torch.rand_like(from_py, dtype=torch.float) # Tensor of random values similar to `from_py`\n",
    "print(f\"ones_like =\\n{ones_like}\")\n",
    "print(f\"rand_like =\\n{rand_like}\")\n",
    "print()\n",
    "\n",
    "# Tensor from shape\n",
    "# - Values dependent on the function\n",
    "# - Shape dependent on the argument\n",
    "shape = (2, 4)\n",
    "ones = torch.ones(shape)   # Tensor of ones of shape (2, 4)\n",
    "rand = torch.rand(shape)   # Tensor of random values of shape (2, 4)\n",
    "zeros = torch.zeros(shape) # Tensor of zeros of shape (2, 4)\n",
    "print(f\"ones =\\n{ones}\")\n",
    "print(f\"rand =\\n{rand}\")\n",
    "print(f\"zeros =\\n{zeros}\")\n",
    "print()"
   ]
  },
  {
   "attachments": {},
   "cell_type": "markdown",
   "metadata": {},
   "source": [
    "Tensors can be initialized in various ways including:\n",
    "- From Python array\n",
    "- From numpy array\n",
    "- From existing tensor\n",
    "- From shape"
   ]
  },
  {
   "attachments": {},
   "cell_type": "markdown",
   "metadata": {},
   "source": [
    "## Tensor Attributes"
   ]
  },
  {
   "cell_type": "code",
   "execution_count": 14,
   "metadata": {},
   "outputs": [
    {
     "name": "stdout",
     "output_type": "stream",
     "text": [
      "tensor.shape = torch.Size([3, 4])\n",
      "tensor.dtype = torch.float32\n",
      "tensor.device = cpu\n"
     ]
    }
   ],
   "source": [
    "tensor = torch.rand(3, 4)\n",
    "\n",
    "print(f\"tensor.shape = {tensor.shape}\")   # Shape (dimensions) of `tensor`\n",
    "print(f\"tensor.dtype = {tensor.dtype}\")   # Data type of `tensor`\n",
    "print(f\"tensor.device = {tensor.device}\") # Device `tensor` is stored on"
   ]
  },
  {
   "attachments": {},
   "cell_type": "markdown",
   "metadata": {},
   "source": [
    "Tensors have attributes, such as:\n",
    "- Shape\n",
    "- Data type\n",
    "- Device (on which it is stored on)"
   ]
  },
  {
   "attachments": {},
   "cell_type": "markdown",
   "metadata": {},
   "source": [
    "## Tensors on the GPU"
   ]
  },
  {
   "cell_type": "code",
   "execution_count": 15,
   "metadata": {},
   "outputs": [
    {
     "name": "stdout",
     "output_type": "stream",
     "text": [
      "tensor.device = cpu\n"
     ]
    }
   ],
   "source": [
    "# We can move the tensor to the GPU if available\n",
    "if torch.cuda.is_available():\n",
    "  tensor = tensor.to(\"cuda\") # Move tensor to CUDA GPU\n",
    "print(f\"tensor.device = {tensor.device}\") # Device `tensor` is stored on"
   ]
  },
  {
   "attachments": {},
   "cell_type": "markdown",
   "metadata": {},
   "source": [
    "Tensors can be moved to and from the GPU"
   ]
  },
  {
   "attachments": {},
   "cell_type": "markdown",
   "metadata": {},
   "source": [
    "## Tensors as Arrays"
   ]
  },
  {
   "cell_type": "code",
   "execution_count": 16,
   "metadata": {},
   "outputs": [
    {
     "name": "stdout",
     "output_type": "stream",
     "text": [
      "tensor[0] =\n",
      "tensor([1., 1., 1., 1.])\n",
      "tensor[:, 0] =\n",
      "tensor([1., 1., 1.])\n",
      "tensor[..., -1] =\n",
      "tensor([1., 1., 1.])\n",
      "\n",
      "modified =\n",
      "tensor([[0., 1., 0., 1.],\n",
      "        [0., 1., 0., 1.],\n",
      "        [0., 1., 0., 1.]])\n",
      "\n",
      "joined_0 =\n",
      "tensor([[0., 1., 0., 1.],\n",
      "        [0., 1., 0., 1.],\n",
      "        [0., 1., 0., 1.],\n",
      "        [0., 1., 0., 1.],\n",
      "        [0., 1., 0., 1.],\n",
      "        [0., 1., 0., 1.]])\n",
      "joined_1 =\n",
      "tensor([[0., 1., 0., 1., 0., 1., 0., 1.],\n",
      "        [0., 1., 0., 1., 0., 1., 0., 1.],\n",
      "        [0., 1., 0., 1., 0., 1., 0., 1.]])\n",
      "\n"
     ]
    }
   ],
   "source": [
    "# Numpy-based indexing and slicing\n",
    "# - Indexing can be thought of as follows: all elements \n",
    "#   that satisfy the provided indexing are returned, e.g.:\n",
    "#   - \"...\" and \":\" mean the indices in that dimension\n",
    "#     can be anything\n",
    "#   - `0` means the indices in that dimension must equal\n",
    "#     `0`\n",
    "#   - `::2` means the indices in that dimension must be\n",
    "#     included in the set of visited indices when\n",
    "#     iterating through all indices of that dimension\n",
    "#     with stride `2`\n",
    "tensor = torch.ones(3, 4)\n",
    "print(f\"tensor[0] =\\n{tensor[0]}\")             # First row\n",
    "print(f\"tensor[:, 0] =\\n{tensor[:, 0]}\")       # First column\n",
    "print(f\"tensor[..., -1] =\\n{tensor[..., -1]}\") # Last column\n",
    "print()\n",
    "\n",
    "modified = tensor\n",
    "modified[..., ::2] = 0 # Assign to `0` every element such that\n",
    "                       # the row is anything and the column\n",
    "                       # is even\n",
    "print(f\"modified =\\n{modified}\")\n",
    "print()\n",
    "\n",
    "# Joining (concatenating) tensors\n",
    "# - Joining can be thought of as follows: provided a\n",
    "#   dimension, we can think of the tensor as 1D array,\n",
    "#   where each element of this array corresponds to\n",
    "#   each index along the dimension in the tensor.\n",
    "#   Now, the two 1D arrays can be concatenated normally.\n",
    "joined_0 = torch.cat([modified, modified], dim=0) # Joining rows\n",
    "joined_1 = torch.cat([modified, modified], dim=1) # Joining columns\n",
    "print(f\"joined_0 =\\n{joined_0}\")\n",
    "print(f\"joined_1 =\\n{joined_1}\")\n",
    "print()"
   ]
  },
  {
   "attachments": {},
   "cell_type": "markdown",
   "metadata": {},
   "source": [
    "Tensors can be operated on similar to arrays:\n",
    "- Indexing/slicing\n",
    "- Joining/concatenating"
   ]
  },
  {
   "attachments": {},
   "cell_type": "markdown",
   "metadata": {},
   "source": [
    "## Tensors as Matrices"
   ]
  },
  {
   "cell_type": "code",
   "execution_count": 17,
   "metadata": {},
   "outputs": [
    {
     "name": "stdout",
     "output_type": "stream",
     "text": [
      "66.0 <class 'float'>\n"
     ]
    }
   ],
   "source": [
    "# Transposition can be done using `.T`\n",
    "transposed = tensor.T\n",
    "\n",
    "# Matrix multiplication can be done in the following ways:\n",
    "matmul1 = tensor @ transposed\n",
    "matmul2 = tensor.matmul(transposed)\n",
    "matmul3 = None\n",
    "torch.matmul(tensor, transposed, out=matmul3)\n",
    "\n",
    "# Element-wise product can be done in the following ways:\n",
    "mul1 = tensor * tensor\n",
    "mul2 = tensor.mul(tensor)\n",
    "mul3 = None\n",
    "torch.mul(tensor, tensor, out=mul3)\n",
    "\n",
    "# Arithmetic operations in-place are denoted by a \"_\" suffix:\n",
    "tensor.add_(5)\n",
    "tensor.t_()\n",
    "\n",
    "# Converting single-element tensor to Python numerical value\n",
    "sum = tensor.sum() # Sum of all elements in tensor returns\n",
    "                   # single-element tensor\n",
    "item = sum.item() # Convert to Python numerical value\n",
    "print(item, type(item))"
   ]
  },
  {
   "attachments": {},
   "cell_type": "markdown",
   "metadata": {},
   "source": [
    "Much like matrices, arithmetic operations can be done on tensors:\n",
    "- Via operators or functions\n",
    "- Can happen in-place"
   ]
  },
  {
   "attachments": {},
   "cell_type": "markdown",
   "metadata": {},
   "source": [
    "## Tensors and References"
   ]
  },
  {
   "cell_type": "code",
   "execution_count": 18,
   "metadata": {},
   "outputs": [
    {
     "name": "stdout",
     "output_type": "stream",
     "text": [
      "torch_tensor =\n",
      "tensor([1., 1., 1., 1., 1.])\n",
      "np_array =\n",
      "[1. 1. 1. 1. 1.]\n",
      "\n",
      "torch_tensor =\n",
      "tensor([11., 11., 11., 11., 11.])\n",
      "np_array =\n",
      "[11. 11. 11. 11. 11.]\n",
      "\n",
      "torch_tensor =\n",
      "tensor([1., 1., 1., 1., 1.], dtype=torch.float64)\n",
      "np_array =\n",
      "[1. 1. 1. 1. 1.]\n",
      "\n",
      "torch_tensor =\n",
      "tensor([11., 11., 11., 11., 11.], dtype=torch.float64)\n",
      "np_array =\n",
      "[11. 11. 11. 11. 11.]\n",
      "\n"
     ]
    }
   ],
   "source": [
    "# Create a PyTorch tensor and get its numpy counterpart\n",
    "# - `.numpy()` can be used to get the numpy equivalent of a\n",
    "#   tensor. Notably, both the tensor and the array reference\n",
    "#   the same memory and changes in one will reflect in the\n",
    "#   other\n",
    "torch_tensor = torch.ones(5)\n",
    "np_array = torch_tensor.numpy()\n",
    "print(f\"torch_tensor =\\n{torch_tensor}\")\n",
    "print(f\"np_array =\\n{np_array}\")\n",
    "print()\n",
    "\n",
    "# Affect the tensor\n",
    "torch_tensor.add_(10)\n",
    "print(f\"torch_tensor =\\n{torch_tensor}\")\n",
    "print(f\"np_array =\\n{np_array}\")\n",
    "print()\n",
    "\n",
    "# Create a numpy array and get its PyTorch counterpart\n",
    "# - The difference between `torch.from_numpy(np_array)`\n",
    "#   and `torch.tensor(np_array)` is that, just like in\n",
    "#   `.numpy()`, the resulting tensor will reference the\n",
    "#   same memory for `torch.from_numpy(np_array)`\n",
    "np_array = np.ones(5)\n",
    "torch_tensor = torch.from_numpy(np_array)\n",
    "print(f\"torch_tensor =\\n{torch_tensor}\")\n",
    "print(f\"np_array =\\n{np_array}\")\n",
    "print()\n",
    "\n",
    "# Affect the tensor\n",
    "torch_tensor.add_(10)\n",
    "print(f\"torch_tensor =\\n{torch_tensor}\")\n",
    "print(f\"np_array =\\n{np_array}\")\n",
    "print()"
   ]
  },
  {
   "attachments": {},
   "cell_type": "markdown",
   "metadata": {},
   "source": [
    "PyTorch tensors and numpy arrays can reference the same memory:\n",
    "- Typical reference rules apply"
   ]
  }
 ],
 "metadata": {
  "kernelspec": {
   "display_name": "Python 3",
   "language": "python",
   "name": "python3"
  },
  "language_info": {
   "codemirror_mode": {
    "name": "ipython",
    "version": 3
   },
   "file_extension": ".py",
   "mimetype": "text/x-python",
   "name": "python",
   "nbconvert_exporter": "python",
   "pygments_lexer": "ipython3",
   "version": "3.10.11"
  },
  "orig_nbformat": 4
 },
 "nbformat": 4,
 "nbformat_minor": 2
}
