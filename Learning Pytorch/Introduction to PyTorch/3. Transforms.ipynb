{
 "cells": [
  {
   "attachments": {},
   "cell_type": "markdown",
   "metadata": {},
   "source": [
    "# Transforming Data"
   ]
  },
  {
   "cell_type": "code",
   "execution_count": 1,
   "metadata": {},
   "outputs": [],
   "source": [
    "import torch\n",
    "from torchvision import datasets\n",
    "from torchvision.transforms import ToTensor, Lambda\n",
    "\n",
    "# As mentioned in \"Datasets & DataLoaders\",\n",
    "# - `transform` transforms the features\n",
    "# - `target_transform` transforms the labels\n",
    "# Some examples of transforms are:\n",
    "# - `ToTensor()` converts a PIL image or numpy `ndarray`\n",
    "#   into a `FloatTensor` and scales the pixel intensity\n",
    "#   values in range [0, 1]\n",
    "# - `Lambda()` allows the user to provide a lambda\n",
    "#   function as a transform\n",
    "data = datasets.FashionMNIST(\n",
    "  root=\"Fashion-MNIST\",\n",
    "  train=True,\n",
    "  download=True,\n",
    "  transform=ToTensor(),\n",
    "  target_transform=Lambda(lambda y: torch.zeros(10, dtype=torch.float).scatter_(0, torch.tensor(y), value=1)) # One hot encoding!\n",
    ")"
   ]
  },
  {
   "attachments": {},
   "cell_type": "markdown",
   "metadata": {},
   "source": [
    "Transforms can be used to transform either the features or their labels"
   ]
  }
 ],
 "metadata": {
  "kernelspec": {
   "display_name": "Python 3",
   "language": "python",
   "name": "python3"
  },
  "language_info": {
   "codemirror_mode": {
    "name": "ipython",
    "version": 3
   },
   "file_extension": ".py",
   "mimetype": "text/x-python",
   "name": "python",
   "nbconvert_exporter": "python",
   "pygments_lexer": "ipython3",
   "version": "3.10.11"
  },
  "orig_nbformat": 4
 },
 "nbformat": 4,
 "nbformat_minor": 2
}
