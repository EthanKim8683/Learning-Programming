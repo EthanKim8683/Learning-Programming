{
 "cells": [
  {
   "attachments": {},
   "cell_type": "markdown",
   "metadata": {},
   "source": [
    "## K-nearest Neighbors"
   ]
  },
  {
   "cell_type": "code",
   "execution_count": 1,
   "metadata": {},
   "outputs": [],
   "source": [
    "import torch\n",
    "\n",
    "def k_nearest_neighbors(k, neighbors, x):\n",
    "  # Collect neighbors' distance and value pairs\n",
    "  values = []\n",
    "  for x_n, value in neighbors:\n",
    "    values.append((torch.dist(x, x_n), value))\n",
    "  values.sort()\n",
    "  \n",
    "  # Sort pairs by distance, average the values of the\n",
    "  # `k` closest pairs\n",
    "  rv = 0\n",
    "  k = min(k, len(neighbors))\n",
    "  for x_n, value in neighbors[:k]:\n",
    "    rv += value\n",
    "  return rv / k"
   ]
  },
  {
   "attachments": {},
   "cell_type": "markdown",
   "metadata": {},
   "source": [
    "The **k-nearest neighbors** model finds, for every input, the `k` nearest neighbors in the dataset and averages their values"
   ]
  },
  {
   "attachments": {},
   "cell_type": "markdown",
   "metadata": {},
   "source": [
    "## Neural Networks"
   ]
  },
  {
   "cell_type": "code",
   "execution_count": 2,
   "metadata": {},
   "outputs": [],
   "source": [
    "def neural_network(layers, x):\n",
    "  # Basic neural network with dense layers and reLU\n",
    "  # activations in between them\n",
    "  rv = x\n",
    "  for w, b in layers[:-1]:\n",
    "    rv = x @ w + b\n",
    "    rv = torch.maximum(rv, torch.zeros_like(rv))\n",
    "  w, b = layers[-1]\n",
    "  return x @ w + b"
   ]
  },
  {
   "attachments": {},
   "cell_type": "markdown",
   "metadata": {},
   "source": [
    "A **neural network** consists of layers that do a variety of things, but generally contains of any amount of linear predictors and activation functions"
   ]
  }
 ],
 "metadata": {
  "kernelspec": {
   "display_name": "Python 3",
   "language": "python",
   "name": "python3"
  },
  "language_info": {
   "codemirror_mode": {
    "name": "ipython",
    "version": 3
   },
   "file_extension": ".py",
   "mimetype": "text/x-python",
   "name": "python",
   "nbconvert_exporter": "python",
   "pygments_lexer": "ipython3",
   "version": "3.10.11"
  },
  "orig_nbformat": 4
 },
 "nbformat": 4,
 "nbformat_minor": 2
}
